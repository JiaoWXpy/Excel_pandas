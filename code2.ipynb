{
 "cells": [
  {
   "cell_type": "code",
   "execution_count": null,
   "metadata": {},
   "outputs": [],
   "source": [
    "import pandas as pd\n",
    "import numpy as np\n",
    "import matplotlib.pyplot as plt\n",
    "from fractions import Fraction\n",
    "##分别读取1/2/3.xlsx文件保存在df2中\n",
    "df2_1=pd.read_excel('C:\\\\Users\\\\Administrator\\\\Desktop\\\\Excel_Pandas\\\\2\\\\1.xlsx',sheet_name='Sheet1',header=None)\n",
    "df2_2=pd.read_excel('C:\\\\Users\\\\Administrator\\\\Desktop\\\\Excel_Pandas\\\\2\\\\2.xlsx',sheet_name='Sheet1',header=None)\n",
    "df2_3=pd.read_excel('C:\\\\Users\\\\Administrator\\\\Desktop\\\\Excel_Pandas\\\\2\\\\3.xlsx',sheet_name='Sheet1',header=None)\n",
    "##将三个DataFrame进行拼接合并，整合为一个Frame\n",
    "df2_all= pd.concat([df2_1,df2_2,df2_3],axis=0,ignore_index=True)\n",
    "##将第二列从str变为float，并保留三位小数\n",
    "for i  in range(103):             \n",
    "    df2_all.iat[i,1] = round(float(Fraction(df2_all.iat[i,1])),3)\n",
    "##获取前五列数据\n",
    "df2_5=df2_all.iloc[:,[0,1,2,3,4]]\n",
    "df2_5v=df2_5.values\n",
    "##输入phase,rotor,power,voltage,rotate数据\n",
    "strx = input('请依次输入phase,rotor,power,voltage,rotate 的值\\n注意:以逗号隔开，rotor的值为分数)\\n')\n",
    "strx_list = strx.strip(',').split(',')#将str以逗号分隔为list\n",
    "strx_list[1] = round(float(Fraction(strx_list[1] )),3)#第二个分数数据转float\n",
    "for i in [0,2,3,4]:\n",
    "    strx_list[i] = int(strx_list[i])\n",
    "arr = np.array(strx_list)#输入数据list转array向量\n",
    "##计算输入数据与文件数据的欧氏距离，并求解相似度\n",
    "dict = {}\n",
    "for j in range(103):\n",
    "    dist = np.sqrt(np.sum(np.square(df2_5v[j]-arr))) #欧氏距离\n",
    "    sim = 1.0 / (1.0 + dist)#归一化\n",
    "    dict[j] = sim\n",
    "max_key = max(dict, key=dict.get)#寻找dict中最大value，并返回对应key值\n",
    "##确定相似都最大数据的文件位置\n",
    "if max_key <= 37:\n",
    "    ex_pos = '1.xlsx'\n",
    "    max_pos = str(max_key+1)\n",
    "elif max_key > 61 :\n",
    "    ex_pos = '3.xlsx'\n",
    "    max_pos = str(max_key - 61)\n",
    "else:\n",
    "    ex_pos = '2.xlsx'\n",
    "    max_pos = str(max_key - 37)\n",
    "##打印数据：最大相似度，对应数据，数据位置\n",
    "print('最大相似度值为: %.6f'%dict[max_key])\n",
    "print('相似度最大数据:',df2_all.iloc[max_key,:].values)\n",
    "print('数据位置: 位于%s中第%s行'%(ex_pos,max_pos))\n"
   ]
  },
  {
   "cell_type": "code",
   "execution_count": null,
   "metadata": {},
   "outputs": [],
   "source": []
  }
 ],
 "metadata": {
  "celltoolbar": "幻灯片",
  "kernelspec": {
   "display_name": "Python 3",
   "language": "python",
   "name": "python3"
  },
  "language_info": {
   "codemirror_mode": {
    "name": "ipython",
    "version": 3
   },
   "file_extension": ".py",
   "mimetype": "text/x-python",
   "name": "python",
   "nbconvert_exporter": "python",
   "pygments_lexer": "ipython3",
   "version": "3.7.1"
  }
 },
 "nbformat": 4,
 "nbformat_minor": 2
}
